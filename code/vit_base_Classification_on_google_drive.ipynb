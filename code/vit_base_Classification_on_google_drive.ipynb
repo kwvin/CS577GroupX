{
 "cells": [
  {
   "cell_type": "code",
   "execution_count": 1,
   "metadata": {
    "colab": {
     "base_uri": "https://localhost:8080/"
    },
    "executionInfo": {
     "elapsed": 6818,
     "status": "ok",
     "timestamp": 1701237669157,
     "user": {
      "displayName": "Xiaolin Liu",
      "userId": "09890196708428182611"
     },
     "user_tz": -480
    },
    "id": "8JpEv5sqqHt7",
    "outputId": "29a3d917-21b8-4516-a6fa-22180db18af2"
   },
   "outputs": [
    {
     "name": "stdout",
     "output_type": "stream",
     "text": [
      "Collecting einops\n",
      "  Downloading einops-0.7.0-py3-none-any.whl (44 kB)\n",
      "\u001b[2K     \u001b[90m━━━━━━━━━━━━━━━━━━━━━━━━━━━━━━━━━━━━━━━━\u001b[0m \u001b[32m44.6/44.6 kB\u001b[0m \u001b[31m1.7 MB/s\u001b[0m eta \u001b[36m0:00:00\u001b[0m\n",
      "\u001b[?25hInstalling collected packages: einops\n",
      "Successfully installed einops-0.7.0\n"
     ]
    }
   ],
   "source": [
    "!pip install einops"
   ]
  },
  {
   "cell_type": "code",
   "execution_count": 2,
   "metadata": {
    "executionInfo": {
     "elapsed": 5198,
     "status": "ok",
     "timestamp": 1701237675056,
     "user": {
      "displayName": "Xiaolin Liu",
      "userId": "09890196708428182611"
     },
     "user_tz": -480
    },
    "id": "YxjCCeOxpcr9"
   },
   "outputs": [],
   "source": [
    "import torch\n",
    "import torch.nn as nn\n",
    "import torch.nn.functional as F\n",
    "from einops import rearrange"
   ]
  },
  {
   "cell_type": "code",
   "execution_count": 3,
   "metadata": {
    "colab": {
     "base_uri": "https://localhost:8080/"
    },
    "executionInfo": {
     "elapsed": 4,
     "status": "ok",
     "timestamp": 1701237675058,
     "user": {
      "displayName": "Xiaolin Liu",
      "userId": "09890196708428182611"
     },
     "user_tz": -480
    },
    "id": "MPli8xbLal7U",
    "outputId": "1102f4f9-4358-40c6-c1d9-6587064632f5"
   },
   "outputs": [
    {
     "name": "stdout",
     "output_type": "stream",
     "text": [
      "2.1.0+cu118\n"
     ]
    }
   ],
   "source": [
    "print(torch.__version__)"
   ]
  },
  {
   "cell_type": "code",
   "execution_count": 4,
   "metadata": {
    "colab": {
     "base_uri": "https://localhost:8080/"
    },
    "executionInfo": {
     "elapsed": 29291,
     "status": "ok",
     "timestamp": 1701237706031,
     "user": {
      "displayName": "Xiaolin Liu",
      "userId": "09890196708428182611"
     },
     "user_tz": -480
    },
    "id": "Vp-e6d0SpfYE",
    "outputId": "07ee1fc4-8d01-413c-f62d-54ddfcf50c20"
   },
   "outputs": [
    {
     "name": "stdout",
     "output_type": "stream",
     "text": [
      "Mounted at /content/drive\n"
     ]
    }
   ],
   "source": [
    "# Mount the Google Cloud Drive\n",
    "from google.colab import drive\n",
    "drive.mount('/content/drive')"
   ]
  },
  {
   "cell_type": "code",
   "execution_count": 5,
   "metadata": {
    "executionInfo": {
     "elapsed": 5,
     "status": "ok",
     "timestamp": 1701237710839,
     "user": {
      "displayName": "Xiaolin Liu",
      "userId": "09890196708428182611"
     },
     "user_tz": -480
    },
    "id": "-OJRgKRlqOYu"
   },
   "outputs": [],
   "source": [
    "class Embedding(nn.Module):  # Patch Embedding + Position Embedding + Class Embedding\n",
    "    def __init__(self, image_channels=3, image_size=224, patch_size=16, dim=768, drop_ratio=0.):\n",
    "        super(Embedding, self).__init__()\n",
    "        self.num_patches = (image_size // patch_size) ** 2  # Patch nums\n",
    "\n",
    "        self.patch_conv = nn.Conv2d(image_channels, dim, patch_size, patch_size)  # Use convolution to divide the image\n",
    "        self.cls_token = nn.Parameter(torch.zeros(1, 1, dim))            # class embedding\n",
    "        self.pos_emb = nn.Parameter(torch.zeros(1, self.num_patches + 1, dim))  # position embedding\n",
    "        self.dropout = nn.Dropout(drop_ratio)\n",
    "\n",
    "    def forward(self, x):\n",
    "        x = self.patch_conv(x)\n",
    "        x = rearrange(x, \"B C H W -> B (H W) C\")\n",
    "        cls_token = torch.repeat_interleave(self.cls_token, x.shape[0], dim=0)  #Dimensional extension (1,1,dim) -> (B,1,dim)\n",
    "        x = torch.cat([cls_token, x], dim=1)  # (B,1,dim) cat (B,num_patches,dim) --> (B,num_patches+1,dim)\n",
    "        x = x + self.pos_emb  # Add location code\n",
    "        return self.dropout(x)  # token"
   ]
  },
  {
   "cell_type": "code",
   "execution_count": 6,
   "metadata": {
    "executionInfo": {
     "elapsed": 6,
     "status": "ok",
     "timestamp": 1701237713389,
     "user": {
      "displayName": "Xiaolin Liu",
      "userId": "09890196708428182611"
     },
     "user_tz": -480
    },
    "id": "C8N_QBPoqccw"
   },
   "outputs": [],
   "source": [
    "class MultiHeadAttention(nn.Module):  # Multi-Head Attention\n",
    "    def __init__(self, dim, num_heads=8, drop_ratio=0.):\n",
    "        super(MultiHeadAttention, self).__init__()\n",
    "        self.num_heads = num_heads\n",
    "        self.head_dim = dim // num_heads\n",
    "\n",
    "        self.qkv = nn.Linear(dim, dim * 3, bias=False)  # Using a linear network layer, the qkv matrix is calculated\n",
    "        self.dropout = nn.Dropout(drop_ratio)\n",
    "        self.proj = nn.Linear(dim, dim)\n",
    "\n",
    "    def forward(self, x):\n",
    "        # B: Batch Size / P: Num of Patches / H: Num of Heads / d: Dim of Head\n",
    "        qkv = self.qkv(x)\n",
    "        qkv = rearrange(qkv, \"B P (C H d) -> C B H P d\", C=3, H=self.num_heads, d=self.head_dim)\n",
    "        q, k, v = qkv[0], qkv[1], qkv[2]  # split q，k，v\n",
    "        k = rearrange(k, \"B H P d -> B H d P\")\n",
    "        # Attention(Q, K, V ) = softmax(QKT/dk)V （T stands for transpose)\n",
    "        attn = torch.matmul(q, k) * self.head_dim ** -0.5  # QKT/dk\n",
    "        attn = F.softmax(attn, dim=-1)  # softmax(QKT/dk)\n",
    "        attn = self.dropout(attn)\n",
    "        x = torch.matmul(attn, v)  # softmax(QKT/dk)V\n",
    "        x = rearrange(x, \"B H P d -> B P (H d)\")\n",
    "        x = self.proj(x)\n",
    "        x = self.dropout(x)\n",
    "        return x"
   ]
  },
  {
   "cell_type": "code",
   "execution_count": 7,
   "metadata": {
    "executionInfo": {
     "elapsed": 4,
     "status": "ok",
     "timestamp": 1701237714553,
     "user": {
      "displayName": "Xiaolin Liu",
      "userId": "09890196708428182611"
     },
     "user_tz": -480
    },
    "id": "S2X_ovunqej_"
   },
   "outputs": [],
   "source": [
    "\n",
    "class MLP(nn.Module):  # MLP\n",
    "    def __init__(self, in_dims, hidden_dims=None, drop_ratio=0.):\n",
    "        super(MLP, self).__init__()\n",
    "        if hidden_dims is None:\n",
    "            hidden_dims = in_dims * 4\n",
    "\n",
    "        self.fc1 = nn.Linear(in_dims, hidden_dims)\n",
    "        self.fc2 = nn.Linear(hidden_dims, in_dims)\n",
    "        self.gelu = nn.GELU()\n",
    "        self.dropout = nn.Dropout(drop_ratio)\n",
    "\n",
    "    def forward(self, x):\n",
    "        # Linear + GELU + Dropout + Linear + Dropout\n",
    "        x = self.fc1(x)\n",
    "        x = self.gelu(x)\n",
    "        x = self.dropout(x)\n",
    "        x = self.fc2(x)\n",
    "        x = self.dropout(x)\n",
    "        return x"
   ]
  },
  {
   "cell_type": "code",
   "execution_count": 8,
   "metadata": {
    "executionInfo": {
     "elapsed": 3,
     "status": "ok",
     "timestamp": 1701237714553,
     "user": {
      "displayName": "Xiaolin Liu",
      "userId": "09890196708428182611"
     },
     "user_tz": -480
    },
    "id": "aAeukLMTqgme"
   },
   "outputs": [],
   "source": [
    "\n",
    "class EncoderBlock(nn.Module):  # Transformer Encoder Block\n",
    "    def __init__(self, dim, num_heads=8, drop_ratio=0.):\n",
    "        super(EncoderBlock, self).__init__()\n",
    "\n",
    "        self.layernorm1 = nn.LayerNorm(dim)\n",
    "        self.multiheadattn = MultiHeadAttention(dim, num_heads)\n",
    "        self.dropout = nn.Dropout(drop_ratio)\n",
    "        self.layernorm2 = nn.LayerNorm(dim)\n",
    "        self.mlp = MLP(dim)\n",
    "\n",
    "    def forward(self, x):\n",
    "        x0 = x\n",
    "        x = self.layernorm1(x)\n",
    "        x = self.multiheadattn(x)\n",
    "        x = self.dropout(x)\n",
    "        x1 = x + x0  # First residual connection\n",
    "        x = self.layernorm2(x1)\n",
    "        x = self.mlp(x)\n",
    "        x = self.dropout(x)\n",
    "        return x + x1  # Second residual connection"
   ]
  },
  {
   "cell_type": "code",
   "execution_count": 9,
   "metadata": {
    "executionInfo": {
     "elapsed": 3,
     "status": "ok",
     "timestamp": 1701237715130,
     "user": {
      "displayName": "Xiaolin Liu",
      "userId": "09890196708428182611"
     },
     "user_tz": -480
    },
    "id": "SEN3VdgwqicO"
   },
   "outputs": [],
   "source": [
    "class MLPHead(nn.Module):  # MLP Head\n",
    "    def __init__(self, dim, num_classes=1000):\n",
    "        super(MLPHead, self).__init__()\n",
    "        self.layernorm = nn.LayerNorm(dim)\n",
    "        self.mlphead = nn.Linear(dim, num_classes)\n",
    "\n",
    "    def forward(self, x):\n",
    "        x = self.layernorm(x)\n",
    "        cls = x[:, 0, :]  # class token\n",
    "        return self.mlphead(cls)"
   ]
  },
  {
   "cell_type": "code",
   "execution_count": 10,
   "metadata": {
    "executionInfo": {
     "elapsed": 4,
     "status": "ok",
     "timestamp": 1701237716987,
     "user": {
      "displayName": "Xiaolin Liu",
      "userId": "09890196708428182611"
     },
     "user_tz": -480
    },
    "id": "TkiIKGwGql0M"
   },
   "outputs": [],
   "source": [
    "\n",
    "class ViT(nn.Module):  # Vision Transformer\n",
    "    def __init__(self, image_channels=3, image_size=224, num_classes=1000, patch_size=16, dim=768, num_heads=12,layers=12):\n",
    "        super(ViT, self).__init__()\n",
    "        self.embedding = Embedding(image_channels, image_size, patch_size, dim)\n",
    "        self.encoder = nn.Sequential(\n",
    "            *[EncoderBlock(dim, num_heads) for i in range(layers)]  # The encoder structure consists of layers Transformer Encoder blocks\n",
    "        )\n",
    "        self.head = MLPHead(dim, num_classes)\n",
    "\n",
    "    def forward(self, x):\n",
    "        x_emb = self.embedding(x)\n",
    "        feature = self.encoder(x_emb)\n",
    "        return self.head(feature)"
   ]
  },
  {
   "cell_type": "markdown",
   "metadata": {
    "id": "aeiIYh62q3Oj"
   },
   "source": [
    "# 1 Algorithm classification ability test"
   ]
  },
  {
   "cell_type": "code",
   "execution_count": 11,
   "metadata": {
    "executionInfo": {
     "elapsed": 2353,
     "status": "ok",
     "timestamp": 1701237721810,
     "user": {
      "displayName": "Xiaolin Liu",
      "userId": "09890196708428182611"
     },
     "user_tz": -480
    },
    "id": "_RuOARjrqpMB"
   },
   "outputs": [],
   "source": [
    "from torchvision.datasets import mnist\n",
    "import torchvision\n",
    "import torchvision.transforms as transforms\n",
    "import torch.utils as utils\n",
    "from torch.utils.data import DataLoader\n",
    "from torchvision.models import resnet18\n",
    "\n",
    "import matplotlib.pyplot as plt\n",
    "import numpy as np"
   ]
  },
  {
   "cell_type": "markdown",
   "metadata": {
    "id": "1sKH2knddlqe"
   },
   "source": [
    "## Clothing classification: FashionMNIST"
   ]
  },
  {
   "cell_type": "code",
   "execution_count": 13,
   "metadata": {
    "executionInfo": {
     "elapsed": 3,
     "status": "ok",
     "timestamp": 1701237747819,
     "user": {
      "displayName": "Xiaolin Liu",
      "userId": "09890196708428182611"
     },
     "user_tz": -480
    },
    "id": "m0WAmi3lq_uE"
   },
   "outputs": [],
   "source": [
    "transform = transforms.Compose([transforms.ToTensor()])\n",
    "training_data = torchvision.datasets.FashionMNIST(root='/content/drive/MyDrive/RPData', train=True, download=True, transform=transform)\n",
    "testing_data = torchvision.datasets.FashionMNIST(root='/content/drive/MyDrive/RPData', train=False, download=True, transform=transform)"
   ]
  },
  {
   "cell_type": "code",
   "execution_count": 14,
   "metadata": {
    "executionInfo": {
     "elapsed": 1116,
     "status": "ok",
     "timestamp": 1701237753104,
     "user": {
      "displayName": "Xiaolin Liu",
      "userId": "09890196708428182611"
     },
     "user_tz": -480
    },
    "id": "EA57s0y0rD5Q"
   },
   "outputs": [],
   "source": [
    "train_db, val_db = utils.data.random_split(training_data, [50000,10000])\n",
    "\n",
    "train_loader = DataLoader(train_db, batch_size=32, shuffle=True)\n",
    "val_loader = DataLoader(val_db, batch_size=32, shuffle=True)\n",
    "test_loader = DataLoader(testing_data, batch_size=32, shuffle=True)"
   ]
  },
  {
   "cell_type": "code",
   "execution_count": 15,
   "metadata": {
    "executionInfo": {
     "elapsed": 699,
     "status": "ok",
     "timestamp": 1701237757218,
     "user": {
      "displayName": "Xiaolin Liu",
      "userId": "09890196708428182611"
     },
     "user_tz": -480
    },
    "id": "cEPocu7QrGxJ"
   },
   "outputs": [],
   "source": [
    "def vit_base(num_classes=10):\n",
    "    return ViT(image_channels=1, image_size=28, num_classes=10, patch_size=7, dim=768, num_heads=12,layers=12)"
   ]
  },
  {
   "cell_type": "code",
   "execution_count": 16,
   "metadata": {
    "executionInfo": {
     "elapsed": 1273,
     "status": "ok",
     "timestamp": 1701237766758,
     "user": {
      "displayName": "Xiaolin Liu",
      "userId": "09890196708428182611"
     },
     "user_tz": -480
    },
    "id": "shQKPq4ErQ_1"
   },
   "outputs": [],
   "source": [
    "device = torch.device(\"cuda\")\n",
    "\n",
    "net = vit_base().to(device=device, dtype=torch.float32)\n",
    "optimizer = torch.optim.Adam(net.parameters(), lr=0.0001, weight_decay=1e-8)\n",
    "criterion = nn.CrossEntropyLoss()"
   ]
  },
  {
   "cell_type": "code",
   "execution_count": 17,
   "metadata": {
    "colab": {
     "base_uri": "https://localhost:8080/"
    },
    "executionInfo": {
     "elapsed": 1029949,
     "status": "ok",
     "timestamp": 1701238796704,
     "user": {
      "displayName": "Xiaolin Liu",
      "userId": "09890196708428182611"
     },
     "user_tz": -480
    },
    "id": "C4tZ4IIxrTc-",
    "outputId": "313f6e5e-7f76-424b-e6c1-7af70236c7ca"
   },
   "outputs": [
    {
     "name": "stdout",
     "output_type": "stream",
     "text": [
      "epochs[  1/  5] val_loss: 0.48462, val_acc: 82.090\n",
      "epochs[  2/  5] val_loss: 0.44647, val_acc: 83.910\n",
      "epochs[  3/  5] val_loss: 0.39432, val_acc: 85.850\n",
      "epochs[  4/  5] val_loss: 0.37556, val_acc: 86.250\n",
      "epochs[  5/  5] val_loss: 0.39572, val_acc: 85.880\n"
     ]
    }
   ],
   "source": [
    "MinTrainLoss=999\n",
    "epochs=5\n",
    "\n",
    "train_loss = []\n",
    "val_loss = []\n",
    "\n",
    "train_acc=[]\n",
    "val_acc=[]\n",
    "\n",
    "for epoch in range(1, epochs+1):\n",
    "    total_train_loss = []\n",
    "    total_val_loss = []\n",
    "\n",
    "    # Train\n",
    "    net.train()\n",
    "    for input_img, label in train_loader:\n",
    "        input_img = input_img.cuda()\n",
    "        label = label.cuda()\n",
    "        optimizer.zero_grad()\n",
    "\n",
    "        pred_img = net(input_img)\n",
    "        loss = criterion(pred_img, label)\n",
    "        loss.backward()\n",
    "        optimizer.step()\n",
    "\n",
    "    # Verify\n",
    "    net.eval()\n",
    "    current = 0\n",
    "    with torch.no_grad():\n",
    "        for val_img, val_label in val_loader:\n",
    "            val_img = val_img.cuda()\n",
    "            val_label = val_label.cuda()\n",
    "            pred = net(val_img)\n",
    "            total_val_loss.append(criterion(pred, val_label).item())\n",
    "            current += (pred.argmax(1)==val_label).type(torch.float).sum().item()\n",
    "\n",
    "    val_loss.append(np.mean(total_val_loss))\n",
    "    val_acc.append(current/10000*100)\n",
    "\n",
    "    print(\"epochs[%3d/%3d] val_loss: %.5f, val_acc: %.3f\"%(epoch, epochs, val_loss[-1],val_acc[-1]))"
   ]
  },
  {
   "cell_type": "code",
   "execution_count": 18,
   "metadata": {
    "colab": {
     "base_uri": "https://localhost:8080/"
    },
    "executionInfo": {
     "elapsed": 12076,
     "status": "ok",
     "timestamp": 1701238878112,
     "user": {
      "displayName": "Xiaolin Liu",
      "userId": "09890196708428182611"
     },
     "user_tz": -480
    },
    "id": "S_L4XlbqraqA",
    "outputId": "3d7bc63a-71c4-43e5-a1f5-0764d54614fc"
   },
   "outputs": [
    {
     "name": "stdout",
     "output_type": "stream",
     "text": [
      "testdataset test_loss: 0.39572, test_acc: 85.220\n"
     ]
    }
   ],
   "source": [
    "net.eval()\n",
    "current = 0\n",
    "total_test_loss = []\n",
    "with torch.no_grad():\n",
    "    for test_img, test_label in test_loader:\n",
    "        test_img = test_img.cuda()\n",
    "        test_label = test_label.cuda()\n",
    "\n",
    "        pred = net(test_img)\n",
    "        total_test_loss.append(criterion(pred, test_label).item())\n",
    "        current += (pred.argmax(1)==test_label).type(torch.float).sum().item()\n",
    "\n",
    "print(\"testdataset test_loss: %.5f, test_acc: %.3f\"%(np.mean(total_val_loss), current/10000*100))"
   ]
  },
  {
   "cell_type": "code",
   "execution_count": 18,
   "metadata": {
    "executionInfo": {
     "elapsed": 17,
     "status": "ok",
     "timestamp": 1701238878112,
     "user": {
      "displayName": "Xiaolin Liu",
      "userId": "09890196708428182611"
     },
     "user_tz": -480
    },
    "id": "YYZ-w3lj_EtB"
   },
   "outputs": [],
   "source": []
  },
  {
   "cell_type": "markdown",
   "metadata": {
    "id": "IIcz_Y1Xvrza"
   },
   "source": [
    "## Color picture classification: CIFAR10"
   ]
  },
  {
   "cell_type": "code",
   "execution_count": 21,
   "metadata": {
    "colab": {
     "base_uri": "https://localhost:8080/"
    },
    "executionInfo": {
     "elapsed": 3214,
     "status": "ok",
     "timestamp": 1701239004784,
     "user": {
      "displayName": "Xiaolin Liu",
      "userId": "09890196708428182611"
     },
     "user_tz": -480
    },
    "id": "y7RUJ5YDvriL",
    "outputId": "8c4ed763-f48a-4e5e-fa2e-9407d4df6c97"
   },
   "outputs": [
    {
     "name": "stdout",
     "output_type": "stream",
     "text": [
      "Files already downloaded and verified\n",
      "Files already downloaded and verified\n"
     ]
    }
   ],
   "source": [
    "transform = transforms.Compose([transforms.ToTensor(),transforms.Normalize((0.5, 0.5, 0.5), (0.5, 0.5, 0.5))])\n",
    "training_data = torchvision.datasets.CIFAR10(root='/content/drive/MyDrive/RPData', train=True, download=True, transform=transform)\n",
    "testing_data = torchvision.datasets.CIFAR10(root='/content/drive/MyDrive/RPData', train=False, download=True, transform=transform)"
   ]
  },
  {
   "cell_type": "code",
   "execution_count": 20,
   "metadata": {
    "executionInfo": {
     "elapsed": 16,
     "status": "ok",
     "timestamp": 1701238897907,
     "user": {
      "displayName": "Xiaolin Liu",
      "userId": "09890196708428182611"
     },
     "user_tz": -480
    },
    "id": "eNmZMUI5upBX"
   },
   "outputs": [],
   "source": [
    "train_db, val_db = utils.data.random_split(training_data, [40000,10000])\n",
    "\n",
    "train_loader = DataLoader(train_db, batch_size=64, shuffle=True)\n",
    "val_loader = DataLoader(val_db, batch_size=64, shuffle=True)\n",
    "test_loader = DataLoader(testing_data, batch_size=64, shuffle=True)"
   ]
  },
  {
   "cell_type": "code",
   "execution_count": 22,
   "metadata": {
    "executionInfo": {
     "elapsed": 3,
     "status": "ok",
     "timestamp": 1701239012607,
     "user": {
      "displayName": "Xiaolin Liu",
      "userId": "09890196708428182611"
     },
     "user_tz": -480
    },
    "id": "QHkU0olvvZsD"
   },
   "outputs": [],
   "source": [
    "def vit_base(num_classes=10):\n",
    "    return ViT(image_channels=3, image_size=32, num_classes=10, patch_size=8, dim=768, num_heads=8,layers=12)"
   ]
  },
  {
   "cell_type": "code",
   "execution_count": 25,
   "metadata": {
    "executionInfo": {
     "elapsed": 792,
     "status": "ok",
     "timestamp": 1701239185509,
     "user": {
      "displayName": "Xiaolin Liu",
      "userId": "09890196708428182611"
     },
     "user_tz": -480
    },
    "id": "eXsyJIUCxBpz"
   },
   "outputs": [],
   "source": [
    "device = torch.device(\"cuda\")\n",
    "\n",
    "net = vit_base().to(device=device, dtype=torch.float32)\n",
    "optimizer = torch.optim.Adam(net.parameters(), lr=0.0001, weight_decay=1e-8)\n",
    "criterion = nn.CrossEntropyLoss()"
   ]
  },
  {
   "cell_type": "code",
   "execution_count": 26,
   "metadata": {
    "colab": {
     "base_uri": "https://localhost:8080/"
    },
    "executionInfo": {
     "elapsed": 1222152,
     "status": "ok",
     "timestamp": 1701240411832,
     "user": {
      "displayName": "Xiaolin Liu",
      "userId": "09890196708428182611"
     },
     "user_tz": -480
    },
    "id": "Onuow2XyxEl3",
    "outputId": "36910253-f550-424d-eeb1-907d414949c1"
   },
   "outputs": [
    {
     "name": "stdout",
     "output_type": "stream",
     "text": [
      "epochs[  1/  8] val_loss: 1.69927, val_acc: 38.020\n",
      "epochs[  2/  8] val_loss: 1.47330, val_acc: 46.710\n",
      "epochs[  3/  8] val_loss: 1.40801, val_acc: 48.680\n",
      "epochs[  4/  8] val_loss: 1.40210, val_acc: 48.790\n",
      "epochs[  5/  8] val_loss: 1.34559, val_acc: 51.440\n",
      "epochs[  6/  8] val_loss: 1.29986, val_acc: 54.360\n",
      "epochs[  7/  8] val_loss: 1.28519, val_acc: 54.230\n",
      "epochs[  8/  8] val_loss: 1.29764, val_acc: 54.960\n"
     ]
    }
   ],
   "source": [
    "MinTrainLoss=999\n",
    "epochs=8\n",
    "\n",
    "cif_train_loss = []\n",
    "cif_val_loss = []\n",
    "\n",
    "cif_train_acc=[]\n",
    "cif_val_acc=[]\n",
    "\n",
    "for epoch in range(1, epochs+1):\n",
    "    total_train_loss = []\n",
    "    total_val_loss = []\n",
    "\n",
    "    # Train\n",
    "    net.train()\n",
    "    for input_img, label in train_loader:\n",
    "        input_img = input_img.cuda()\n",
    "        label = label.cuda()\n",
    "        optimizer.zero_grad()\n",
    "\n",
    "        pred_img = net(input_img)\n",
    "        loss = criterion(pred_img, label)\n",
    "        loss.backward()\n",
    "        optimizer.step()\n",
    "\n",
    "    # Verify\n",
    "    net.eval()\n",
    "    current = 0\n",
    "    with torch.no_grad():\n",
    "        for val_img, val_label in val_loader:\n",
    "            val_img = val_img.cuda()\n",
    "            val_label = val_label.cuda()\n",
    "\n",
    "            pred = net(val_img)\n",
    "            total_val_loss.append(criterion(pred, val_label).item())\n",
    "            current += (pred.argmax(1)==val_label).type(torch.float).sum().item()\n",
    "\n",
    "    val_loss.append(np.mean(total_val_loss))\n",
    "    val_acc.append(current/10000*100)\n",
    "\n",
    "    print(\"epochs[%3d/%3d] val_loss: %.5f, val_acc: %.3f\"%(epoch, epochs, val_loss[-1],val_acc[-1]))"
   ]
  },
  {
   "cell_type": "code",
   "execution_count": 27,
   "metadata": {
    "colab": {
     "base_uri": "https://localhost:8080/"
    },
    "executionInfo": {
     "elapsed": 12152,
     "status": "ok",
     "timestamp": 1701240439466,
     "user": {
      "displayName": "Xiaolin Liu",
      "userId": "09890196708428182611"
     },
     "user_tz": -480
    },
    "id": "i4CkOd3s1Tcm",
    "outputId": "8505d645-a175-49ac-e093-1e0870296b0a"
   },
   "outputs": [
    {
     "name": "stdout",
     "output_type": "stream",
     "text": [
      "testdataset test_loss: 1.29764, test_acc: 55.360\n"
     ]
    }
   ],
   "source": [
    "net.eval()\n",
    "current = 0\n",
    "total_test_loss = []\n",
    "with torch.no_grad():\n",
    "    for test_img, test_label in test_loader:\n",
    "        test_img = test_img.cuda()\n",
    "        test_label = test_label.cuda()\n",
    "\n",
    "        pred = net(test_img)\n",
    "        total_test_loss.append(criterion(pred, test_label).item())\n",
    "        current += (pred.argmax(1)==test_label).type(torch.float).sum().item()\n",
    "\n",
    "print(\"testdataset test_loss: %.5f, test_acc: %.3f\"%(np.mean(total_val_loss), current/10000*100))"
   ]
  },
  {
   "cell_type": "markdown",
   "metadata": {
    "id": "XIsmyZTKzMSZ"
   },
   "source": [
    "# base model: Resnet"
   ]
  },
  {
   "cell_type": "code",
   "execution_count": null,
   "metadata": {
    "id": "bJPf4hEjGq__"
   },
   "outputs": [],
   "source": []
  },
  {
   "cell_type": "code",
   "execution_count": null,
   "metadata": {
    "id": "3_l-Mql-Gq90"
   },
   "outputs": [],
   "source": [
    "device = torch.device(\"cuda\")\n",
    "\n",
    "base_net = resnet18().to(device=device, dtype=torch.float32)\n",
    "optimizer = torch.optim.Adam(base_net.parameters(), lr=0.001, weight_decay=1e-8)\n",
    "criterion = nn.CrossEntropyLoss()"
   ]
  },
  {
   "cell_type": "code",
   "execution_count": null,
   "metadata": {
    "colab": {
     "base_uri": "https://localhost:8080/"
    },
    "executionInfo": {
     "elapsed": 205218,
     "status": "ok",
     "timestamp": 1701235962916,
     "user": {
      "displayName": "Xiyang Zhang",
      "userId": "01288470462329297449"
     },
     "user_tz": -480
    },
    "id": "hnuXn8HmGq2i",
    "outputId": "9f810988-1638-44a4-d9cf-4cc6040b4416"
   },
   "outputs": [
    {
     "name": "stdout",
     "output_type": "stream",
     "text": [
      "epochs[  1/ 10] val_loss: 1.17634, val_acc: 58.910\n",
      "epochs[  2/ 10] val_loss: 1.00609, val_acc: 65.320\n",
      "epochs[  3/ 10] val_loss: 0.90740, val_acc: 68.400\n",
      "epochs[  4/ 10] val_loss: 0.87473, val_acc: 69.910\n",
      "epochs[  5/ 10] val_loss: 0.79948, val_acc: 72.510\n",
      "epochs[  6/ 10] val_loss: 0.78960, val_acc: 73.760\n",
      "epochs[  7/ 10] val_loss: 0.82434, val_acc: 73.630\n",
      "epochs[  8/ 10] val_loss: 0.87633, val_acc: 73.830\n",
      "epochs[  9/ 10] val_loss: 0.87718, val_acc: 74.570\n",
      "epochs[ 10/ 10] val_loss: 0.88476, val_acc: 74.710\n"
     ]
    }
   ],
   "source": [
    "MinTrainLoss=999\n",
    "epochs=10\n",
    "\n",
    "cif_train_loss = []\n",
    "cif_val_loss = []\n",
    "\n",
    "cif_train_acc=[]\n",
    "cif_val_acc=[]\n",
    "\n",
    "for epoch in range(1, epochs+1):\n",
    "    total_train_loss = []\n",
    "    total_val_loss = []\n",
    "\n",
    "    # Train\n",
    "    base_net.train()\n",
    "    for input_img, label in train_loader:\n",
    "        input_img = input_img.cuda()\n",
    "        label = label.cuda()\n",
    "        optimizer.zero_grad()\n",
    "\n",
    "        pred_img = base_net(input_img)\n",
    "        loss = criterion(pred_img, label)\n",
    "        loss.backward()\n",
    "        optimizer.step()\n",
    "\n",
    "    # Verify\n",
    "    base_net.eval()\n",
    "    current = 0\n",
    "    with torch.no_grad():\n",
    "        for val_img, val_label in val_loader:\n",
    "            val_img = val_img.cuda()\n",
    "            val_label = val_label.cuda()\n",
    "\n",
    "            pred = base_net(val_img)\n",
    "            total_val_loss.append(criterion(pred, val_label).item())\n",
    "            current += (pred.argmax(1)==val_label).type(torch.float).sum().item()\n",
    "\n",
    "    val_loss.append(np.mean(total_val_loss))\n",
    "    val_acc.append(current/10000*100)\n",
    "\n",
    "    print(\"epochs[%3d/%3d] val_loss: %.5f, val_acc: %.3f\"%(epoch, epochs, val_loss[-1],val_acc[-1]))"
   ]
  },
  {
   "cell_type": "code",
   "execution_count": null,
   "metadata": {
    "colab": {
     "base_uri": "https://localhost:8080/"
    },
    "executionInfo": {
     "elapsed": 3902,
     "status": "ok",
     "timestamp": 1701235966805,
     "user": {
      "displayName": "Xiyang Zhang",
      "userId": "01288470462329297449"
     },
     "user_tz": -480
    },
    "id": "VAx9tDRuHDpQ",
    "outputId": "fccb3f08-5d56-4ee1-e0e3-8111d95b7dea"
   },
   "outputs": [
    {
     "name": "stdout",
     "output_type": "stream",
     "text": [
      "testdataset test_loss: 0.88476, test_acc: 74.410\n"
     ]
    }
   ],
   "source": [
    "base_net.eval()\n",
    "current = 0\n",
    "total_test_loss = []\n",
    "with torch.no_grad():\n",
    "    for test_img, test_label in test_loader:\n",
    "        test_img = test_img.cuda()\n",
    "        test_label = test_label.cuda()\n",
    "\n",
    "        pred = base_net(test_img)\n",
    "        total_test_loss.append(criterion(pred, test_label).item())\n",
    "        current += (pred.argmax(1)==test_label).type(torch.float).sum().item()\n",
    "\n",
    "print(\"testdataset test_loss: %.5f, test_acc: %.3f\"%(np.mean(total_val_loss), current/10000*100))"
   ]
  },
  {
   "cell_type": "markdown",
   "metadata": {
    "id": "oR7oGm4sYIPZ"
   },
   "source": [
    "# Pre-train ViT"
   ]
  },
  {
   "cell_type": "code",
   "execution_count": null,
   "metadata": {
    "colab": {
     "base_uri": "https://localhost:8080/"
    },
    "executionInfo": {
     "elapsed": 1381,
     "status": "ok",
     "timestamp": 1701232979941,
     "user": {
      "displayName": "Xiyang Zhang",
      "userId": "01288470462329297449"
     },
     "user_tz": -480
    },
    "id": "lE2YrimnYmnE",
    "outputId": "d73807f7-9a7b-4131-f224-e524083f6883"
   },
   "outputs": [
    {
     "name": "stdout",
     "output_type": "stream",
     "text": [
      "Files already downloaded and verified\n",
      "Files already downloaded and verified\n"
     ]
    }
   ],
   "source": [
    "transform = transforms.Compose([transforms.ToTensor(),transforms.Normalize((0.5, 0.5, 0.5), (0.5, 0.5, 0.5)), transforms.Resize([224,224])])\n",
    "training_data = torchvision.datasets.CIFAR10(root='/content/drive/MyDrive/RPData', train=True, download=True, transform=transform)\n",
    "testing_data = torchvision.datasets.CIFAR10(root='/content/drive/MyDrive/RPData', train=False, download=True, transform=transform)"
   ]
  },
  {
   "cell_type": "code",
   "execution_count": null,
   "metadata": {
    "id": "jwsDZO7bYzgX"
   },
   "outputs": [],
   "source": [
    "train_db, val_db = utils.data.random_split(training_data, [40000,10000])\n",
    "\n",
    "train_loader = DataLoader(train_db, batch_size=64, shuffle=True)\n",
    "val_loader = DataLoader(val_db, batch_size=64, shuffle=True)\n",
    "test_loader = DataLoader(testing_data, batch_size=64, shuffle=True)"
   ]
  },
  {
   "cell_type": "code",
   "execution_count": null,
   "metadata": {
    "id": "e7vL6kzvHaWM"
   },
   "outputs": [],
   "source": [
    "class MyViT(nn.Module):\n",
    "    def __init__(self, model, target_size):\n",
    "        super(MyViT, self).__init__()\n",
    "        self.model = model\n",
    "        for param in self.model.parameters():\n",
    "          param.requires_grad = False\n",
    "        n_features = self.model.heads.head.in_features\n",
    "        #\n",
    "        self.model.heads.head = nn.Linear(n_features, target_size)\n",
    "\n",
    "    def forward(self, x):\n",
    "        x = self.model(x)\n",
    "        return x"
   ]
  },
  {
   "cell_type": "code",
   "execution_count": null,
   "metadata": {
    "colab": {
     "base_uri": "https://localhost:8080/"
    },
    "executionInfo": {
     "elapsed": 2067,
     "status": "ok",
     "timestamp": 1701233044346,
     "user": {
      "displayName": "Xiyang Zhang",
      "userId": "01288470462329297449"
     },
     "user_tz": -480
    },
    "id": "tiozT_wZXr6B",
    "outputId": "b6502ee1-9094-418d-8be0-afd7f971dd38"
   },
   "outputs": [
    {
     "name": "stderr",
     "output_type": "stream",
     "text": [
      "Using cache found in /root/.cache/torch/hub/pytorch_vision_main\n"
     ]
    }
   ],
   "source": [
    "device = torch.device(\"cuda\")\n",
    "model = torch.hub.load('pytorch/vision', 'vit_b_16', weights='ViT_B_16_Weights.DEFAULT')\n",
    "\n",
    "pred_vit = MyViT(model,10).to(device=device, dtype=torch.float32)\n",
    "optimizer = torch.optim.Adam([{'params': pred_vit.model.heads.head.parameters()}], lr=0.01, weight_decay=1e-8)\n",
    "criterion = nn.CrossEntropyLoss()"
   ]
  },
  {
   "cell_type": "code",
   "execution_count": null,
   "metadata": {
    "colab": {
     "base_uri": "https://localhost:8080/"
    },
    "executionInfo": {
     "elapsed": 1741965,
     "status": "ok",
     "timestamp": 1701235586902,
     "user": {
      "displayName": "Xiyang Zhang",
      "userId": "01288470462329297449"
     },
     "user_tz": -480
    },
    "id": "5TsylP3_Xrxm",
    "outputId": "e9e53e23-22b5-4723-d056-19e00d85e643"
   },
   "outputs": [
    {
     "name": "stdout",
     "output_type": "stream",
     "text": [
      "epochs[  1/  3] val_loss: 0.34762, val_acc: 92.710\n",
      "epochs[  2/  3] val_loss: 0.32649, val_acc: 93.710\n",
      "epochs[  3/  3] val_loss: 0.39757, val_acc: 92.970\n"
     ]
    }
   ],
   "source": [
    "MinTrainLoss=999\n",
    "epochs=3\n",
    "\n",
    "val_acc=[]\n",
    "val_loss=[]\n",
    "\n",
    "for epoch in range(1, epochs+1):\n",
    "    total_train_loss = []\n",
    "    total_val_loss = []\n",
    "\n",
    "    # Train\n",
    "    pred_vit.train()\n",
    "    for input_img, label in train_loader:\n",
    "        input_img = input_img.cuda()\n",
    "        label = label.cuda()\n",
    "        optimizer.zero_grad()\n",
    "\n",
    "        pred_img = pred_vit(input_img)\n",
    "        loss = criterion(pred_img, label)\n",
    "        loss.backward()\n",
    "        optimizer.step()\n",
    "\n",
    "    # Verify\n",
    "    pred_vit.eval()\n",
    "    current = 0\n",
    "    with torch.no_grad():\n",
    "        for val_img, val_label in val_loader:\n",
    "            val_img = val_img.cuda()\n",
    "            val_label = val_label.cuda()\n",
    "\n",
    "            pred = pred_vit(val_img)\n",
    "            total_val_loss.append(criterion(pred, val_label).item())\n",
    "            current += (pred.argmax(1)==val_label).type(torch.float).sum().item()\n",
    "\n",
    "    val_loss.append(np.mean(total_val_loss))\n",
    "    val_acc.append(current/10000*100)\n",
    "\n",
    "    print(\"epochs[%3d/%3d] val_loss: %.5f, val_acc: %.3f\"%(epoch, epochs, val_loss[-1],val_acc[-1]))"
   ]
  },
  {
   "cell_type": "code",
   "execution_count": null,
   "metadata": {
    "colab": {
     "base_uri": "https://localhost:8080/"
    },
    "executionInfo": {
     "elapsed": 124890,
     "status": "ok",
     "timestamp": 1701235713178,
     "user": {
      "displayName": "Xiyang Zhang",
      "userId": "01288470462329297449"
     },
     "user_tz": -480
    },
    "id": "cZQHGW-iYd8u",
    "outputId": "0aa58131-5d91-4f84-d047-1bff495330ad"
   },
   "outputs": [
    {
     "name": "stdout",
     "output_type": "stream",
     "text": [
      "testdataset test_loss: 0.39757, test_acc: 93.160\n"
     ]
    }
   ],
   "source": [
    "pred_vit.eval()\n",
    "current = 0\n",
    "total_test_loss = []\n",
    "with torch.no_grad():\n",
    "    for test_img, test_label in test_loader:\n",
    "        test_img = test_img.cuda()\n",
    "        test_label = test_label.cuda()\n",
    "\n",
    "        pred = pred_vit(test_img)\n",
    "        total_test_loss.append(criterion(pred, test_label).item())\n",
    "        current += (pred.argmax(1)==test_label).type(torch.float).sum().item()\n",
    "\n",
    "print(\"testdataset test_loss: %.5f, test_acc: %.3f\"%(np.mean(total_val_loss), current/10000*100))"
   ]
  },
  {
   "cell_type": "code",
   "execution_count": null,
   "metadata": {
    "id": "0f1Al2hsYd2D"
   },
   "outputs": [],
   "source": []
  },
  {
   "cell_type": "code",
   "execution_count": null,
   "metadata": {
    "colab": {
     "base_uri": "https://localhost:8080/"
    },
    "executionInfo": {
     "elapsed": 17,
     "status": "ok",
     "timestamp": 1701090130798,
     "user": {
      "displayName": "Xiyang Zhang",
      "userId": "01288470462329297449"
     },
     "user_tz": -480
    },
    "id": "rsilR1wVxUBu",
    "outputId": "6457a5e3-bae2-406e-88bf-8aded9385931"
   },
   "outputs": [
    {
     "name": "stdout",
     "output_type": "stream",
     "text": [
      "Mon Nov 27 13:02:09 2023       \n",
      "+-----------------------------------------------------------------------------+\n",
      "| NVIDIA-SMI 525.105.17   Driver Version: 525.105.17   CUDA Version: 12.0     |\n",
      "|-------------------------------+----------------------+----------------------+\n",
      "| GPU  Name        Persistence-M| Bus-Id        Disp.A | Volatile Uncorr. ECC |\n",
      "| Fan  Temp  Perf  Pwr:Usage/Cap|         Memory-Usage | GPU-Util  Compute M. |\n",
      "|                               |                      |               MIG M. |\n",
      "|===============================+======================+======================|\n",
      "|   0  Tesla T4            Off  | 00000000:00:04.0 Off |                    0 |\n",
      "| N/A   68C    P0    30W /  70W |   3241MiB / 15360MiB |      0%      Default |\n",
      "|                               |                      |                  N/A |\n",
      "+-------------------------------+----------------------+----------------------+\n",
      "                                                                               \n",
      "+-----------------------------------------------------------------------------+\n",
      "| Processes:                                                                  |\n",
      "|  GPU   GI   CI        PID   Type   Process name                  GPU Memory |\n",
      "|        ID   ID                                                   Usage      |\n",
      "|=============================================================================|\n",
      "+-----------------------------------------------------------------------------+\n"
     ]
    }
   ],
   "source": [
    "!/opt/bin/nvidia-smi"
   ]
  },
  {
   "cell_type": "code",
   "execution_count": null,
   "metadata": {
    "colab": {
     "base_uri": "https://localhost:8080/",
     "height": 35
    },
    "executionInfo": {
     "elapsed": 8,
     "status": "ok",
     "timestamp": 1701090172145,
     "user": {
      "displayName": "Xiyang Zhang",
      "userId": "01288470462329297449"
     },
     "user_tz": -480
    },
    "id": "gKBzkr1YFhTy",
    "outputId": "a8cfe4d4-0737-4047-acaa-c2598855d402"
   },
   "outputs": [
    {
     "data": {
      "application/vnd.google.colaboratory.intrinsic+json": {
       "type": "string"
      },
      "text/plain": [
       "'Tesla T4'"
      ]
     },
     "execution_count": 34,
     "metadata": {},
     "output_type": "execute_result"
    }
   ],
   "source": [
    "torch.cuda.get_device_name(0)"
   ]
  },
  {
   "cell_type": "code",
   "execution_count": null,
   "metadata": {
    "id": "MpmuecYqRPlM"
   },
   "outputs": [],
   "source": []
  }
 ],
 "metadata": {
  "accelerator": "GPU",
  "colab": {
   "gpuType": "T4",
   "provenance": []
  },
  "kernelspec": {
   "display_name": "Python 3 (ipykernel)",
   "language": "python",
   "name": "python3"
  },
  "language_info": {
   "codemirror_mode": {
    "name": "ipython",
    "version": 3
   },
   "file_extension": ".py",
   "mimetype": "text/x-python",
   "name": "python",
   "nbconvert_exporter": "python",
   "pygments_lexer": "ipython3",
   "version": "3.11.6"
  }
 },
 "nbformat": 4,
 "nbformat_minor": 4
}
